{
 "cells": [
  {
   "cell_type": "markdown",
   "metadata": {},
   "source": [
    "# This notebook will be used for the capstone project"
   ]
  },
  {
   "cell_type": "code",
   "execution_count": 1,
   "metadata": {},
   "outputs": [],
   "source": [
    "### Set up project"
   ]
  },
  {
   "cell_type": "code",
   "execution_count": 1,
   "metadata": {},
   "outputs": [
    {
     "name": "stdout",
     "output_type": "stream",
     "text": [
      "Hello Capstone Project Course!\n"
     ]
    }
   ],
   "source": [
    "import pandas as pd\n",
    "import numpy as np\n",
    "print('Hello Capstone Project Course!')"
   ]
  },
  {
   "cell_type": "markdown",
   "metadata": {},
   "source": [
    "### Fetch Toronto neighbourhood table from Wiki"
   ]
  },
  {
   "cell_type": "code",
   "execution_count": 2,
   "metadata": {},
   "outputs": [
    {
     "name": "stdout",
     "output_type": "stream",
     "text": [
      "  Postal Code           Borough              Neighbourhood\n",
      "0         M1A      Not assigned               Not assigned\n",
      "1         M2A      Not assigned               Not assigned\n",
      "2         M3A        North York                  Parkwoods\n",
      "3         M4A        North York           Victoria Village\n",
      "4         M5A  Downtown Toronto  Regent Park, Harbourfront\n"
     ]
    }
   ],
   "source": [
    "## URL of table\n",
    "wiki_url='https://en.wikipedia.org/wiki/List_of_postal_codes_of_Canada:_M'\n",
    "### scrape wiki page\n",
    "df_original = pd.read_html(wiki_url, header=0)[0]\n",
    "print(df_original.head(5))\n",
    "df = df_original"
   ]
  },
  {
   "cell_type": "markdown",
   "metadata": {},
   "source": [
    "## Pre-processing\n",
    "### Remove cells where Borough is not assigned"
   ]
  },
  {
   "cell_type": "code",
   "execution_count": 8,
   "metadata": {},
   "outputs": [
    {
     "name": "stdout",
     "output_type": "stream",
     "text": [
      "  Postal Code           Borough                                Neighbourhood\n",
      "2         M3A        North York                                    Parkwoods\n",
      "3         M4A        North York                             Victoria Village\n",
      "4         M5A  Downtown Toronto                    Regent Park, Harbourfront\n",
      "5         M6A        North York             Lawrence Manor, Lawrence Heights\n",
      "6         M7A  Downtown Toronto  Queen's Park, Ontario Provincial Government\n"
     ]
    }
   ],
   "source": [
    "df = df[df['Borough'] != 'Not assigned']\n",
    "print(df.head())"
   ]
  },
  {
   "cell_type": "markdown",
   "metadata": {},
   "source": [
    "### Merge Neighbourhoods with same postal code"
   ]
  },
  {
   "cell_type": "code",
   "execution_count": 9,
   "metadata": {},
   "outputs": [
    {
     "name": "stdout",
     "output_type": "stream",
     "text": [
      "Unique postal codes: 103\n"
     ]
    }
   ],
   "source": [
    "print('Unique postal codes: {}'.format(len(df['Postal Code'].unique())))"
   ]
  },
  {
   "cell_type": "code",
   "execution_count": 10,
   "metadata": {},
   "outputs": [
    {
     "name": "stdout",
     "output_type": "stream",
     "text": [
      "             Borough  Neighbourhood\n",
      "Postal Code                        \n",
      "M1B                1              1\n",
      "M1C                1              1\n",
      "M1E                1              1\n",
      "M1G                1              1\n",
      "M1H                1              1\n",
      "  Postal Code           Borough                                Neighbourhood\n",
      "2         M3A        North York                                    Parkwoods\n",
      "3         M4A        North York                             Victoria Village\n",
      "4         M5A  Downtown Toronto                    Regent Park, Harbourfront\n",
      "5         M6A        North York             Lawrence Manor, Lawrence Heights\n",
      "6         M7A  Downtown Toronto  Queen's Park, Ontario Provincial Government\n",
      "(103, 3)\n"
     ]
    }
   ],
   "source": [
    "PostalCodeGroups = df.groupby('Postal Code').count()\n",
    "PostalCodeMultiples = PostalCodeGroups[PostalCodeGroups['Borough'] > 1].index.values\n",
    "print(PostalCodeGroups.head())\n",
    "\n",
    "for i in PostalCodeMultiples:\n",
    "    df_pcm = df[df['Postal Code'] == i]\n",
    "    \n",
    "    borough = df_pcm.iloc[0]['Borough']\n",
    "    joined = ','.join(df_pcm['Neighborhood'].tolist())\n",
    "    \n",
    "    df = df[df['Postal Code'] != i]\n",
    "    df = df.append({'Postal Code': i,\n",
    "                   'Borough': borough,\n",
    "                   'Neighbourhood': joined},\n",
    "                  ignore_index = True)\n",
    "    \n",
    "print(df.head())\n",
    "print(df.shape)"
   ]
  },
  {
   "cell_type": "markdown",
   "metadata": {},
   "source": [
    "Set Neighbourhood as Borough if unassigned"
   ]
  },
  {
   "cell_type": "code",
   "execution_count": 13,
   "metadata": {},
   "outputs": [],
   "source": [
    "### shape of dataframe\n",
    "### if neighborhood - not assigned\n",
    "### --> neighbourhood = borough\n",
    "idx = df[df['Neighbourhood'] == 'Not assigned'].index.values\n",
    "\n",
    "for i in idx:\n",
    "    df.loc[i, 'Neighbourhood'] = df.loc[i, 'Borough']\n",
    "    \n"
   ]
  },
  {
   "cell_type": "code",
   "execution_count": 12,
   "metadata": {},
   "outputs": [
    {
     "data": {
      "text/plain": [
       "(103, 3)"
      ]
     },
     "execution_count": 12,
     "metadata": {},
     "output_type": "execute_result"
    }
   ],
   "source": [
    "df.shape"
   ]
  },
  {
   "cell_type": "code",
   "execution_count": null,
   "metadata": {},
   "outputs": [],
   "source": []
  }
 ],
 "metadata": {
  "kernelspec": {
   "display_name": "Python 3",
   "language": "python",
   "name": "python3"
  },
  "language_info": {
   "codemirror_mode": {
    "name": "ipython",
    "version": 3
   },
   "file_extension": ".py",
   "mimetype": "text/x-python",
   "name": "python",
   "nbconvert_exporter": "python",
   "pygments_lexer": "ipython3",
   "version": "3.8.5"
  }
 },
 "nbformat": 4,
 "nbformat_minor": 4
}
